{
  "nbformat": 4,
  "nbformat_minor": 0,
  "metadata": {
    "kernelspec": {
      "display_name": "Python 3",
      "language": "python",
      "name": "python3"
    },
    "language_info": {
      "codemirror_mode": {
        "name": "ipython",
        "version": 3
      },
      "file_extension": ".py",
      "mimetype": "text/x-python",
      "name": "python",
      "nbconvert_exporter": "python",
      "pygments_lexer": "ipython3",
      "version": "3.6.6"
    },
    "colab": {
      "name": "Telecom Churn Analysis - Capstone Project.ipynb",
      "provenance": [],
      "collapsed_sections": [
        "6En-uQMBGFqQ",
        "XvC_kqHBgy5j"
      ],
      "include_colab_link": true
    }
  },
  "cells": [
    {
      "cell_type": "markdown",
      "metadata": {
        "id": "view-in-github",
        "colab_type": "text"
      },
      "source": [
        "<a href=\"https://colab.research.google.com/github/Omprakash977/EDA/blob/main/Telecom_Churn_Analysis_Capstone_Project.ipynb\" target=\"_parent\"><img src=\"https://colab.research.google.com/assets/colab-badge.svg\" alt=\"Open In Colab\"/></a>"
      ]
    },
    {
      "cell_type": "markdown",
      "metadata": {
        "id": "Y06xIdG26kRF"
      },
      "source": [
        "## <b> Orange S.A., formerly France Télécom S.A., is a French multinational telecommunications corporation. The Orange Telecom's Churn Dataset, consists of cleaned customer activity data (features), along with a churn label specifying whether a customer canceled the subscription.\n",
        "\n",
        "## <b> Explore and analyze the data to discover key factors responsible for customer churn and come up with ways/recommendations to ensure customer retention. </b>"
      ]
    },
    {
      "cell_type": "markdown",
      "source": [
        "The preliminary analysis of data to discover relationships between measures in the data and to gain an insight on the trends, patterns, and relationships among various entities present in the data set with the help of statistics and visualization tools is called Exploratory Data Analysis (EDA)."
      ],
      "metadata": {
        "id": "oZvUQoIbZimI"
      }
    },
    {
      "cell_type": "code",
      "metadata": {
        "id": "dByMsuzT8Tnw"
      },
      "source": [
        "# Importing required libraries\n",
        "\n",
        "import pandas as pd\n",
        "import numpy as np\n",
        "from matplotlib import pyplot as plt\n",
        "import seaborn as sns\n",
        "import warnings\n",
        "warnings.filterwarnings('ignore')"
      ],
      "execution_count": null,
      "outputs": []
    },
    {
      "cell_type": "code",
      "source": [
        "# Mounting drive\n",
        "from google.colab import drive\n",
        "drive.mount('/content/drive')"
      ],
      "metadata": {
        "id": "VhxDKvMi1Kz6"
      },
      "execution_count": null,
      "outputs": []
    },
    {
      "cell_type": "markdown",
      "source": [
        "# Reading and understanding the data"
      ],
      "metadata": {
        "id": "5t_qdcXZbR02"
      }
    },
    {
      "cell_type": "code",
      "source": [
        "# Data reading\n",
        "df = pd.read_csv('/content/drive/MyDrive/Datasets/Telecom Churn.csv')"
      ],
      "metadata": {
        "id": "yxUnZq3e1PcC"
      },
      "execution_count": null,
      "outputs": []
    },
    {
      "cell_type": "code",
      "source": [
        "# Exploring the first five rows of the dataset\n",
        "df.head()"
      ],
      "metadata": {
        "id": "hxcVMUBb1YZT"
      },
      "execution_count": null,
      "outputs": []
    },
    {
      "cell_type": "code",
      "source": [
        "# Exploring the last five values of the dataset\n",
        "df.tail()"
      ],
      "metadata": {
        "id": "oo85jpFC2tXK"
      },
      "execution_count": null,
      "outputs": []
    },
    {
      "cell_type": "code",
      "source": [
        "# Inspecting the length and number of columns of the dataset\n",
        "df.shape"
      ],
      "metadata": {
        "id": "dSSPp-3l20lL"
      },
      "execution_count": null,
      "outputs": []
    },
    {
      "cell_type": "markdown",
      "source": [
        "The dataset contains 3333 rows and 20 columns."
      ],
      "metadata": {
        "id": "iYy1cMyGVMwf"
      }
    },
    {
      "cell_type": "code",
      "source": [
        "# Checking null values and data types of each columns\n",
        "df.info()"
      ],
      "metadata": {
        "id": "btaPJYW72-pH"
      },
      "execution_count": null,
      "outputs": []
    },
    {
      "cell_type": "markdown",
      "source": [
        "The columns are of different datatypes like object, integer, float and boolean. \n",
        "\n",
        "There are no null values present in any columns. So we don't need to worry about the null value treatment."
      ],
      "metadata": {
        "id": "w5cflHiMVZZ5"
      }
    },
    {
      "cell_type": "code",
      "source": [
        "# Finding statistical measures of numerical columns\n",
        "df.describe()"
      ],
      "metadata": {
        "id": "tupwUUHR3hVx"
      },
      "execution_count": null,
      "outputs": []
    },
    {
      "cell_type": "code",
      "source": [
        "# Checking number of unique values of columns\n",
        "df.nunique()"
      ],
      "metadata": {
        "id": "gvoDMOny5N4f"
      },
      "execution_count": null,
      "outputs": []
    },
    {
      "cell_type": "code",
      "source": [
        "# Detecting duplicate rows\n",
        "df.duplicated().sum()"
      ],
      "metadata": {
        "id": "feRmhiL65n6a"
      },
      "execution_count": null,
      "outputs": []
    },
    {
      "cell_type": "markdown",
      "source": [
        "The dataset doesn't contain any duplicate rows."
      ],
      "metadata": {
        "id": "cPEV5bhyWpc6"
      }
    },
    {
      "cell_type": "markdown",
      "source": [
        "# Univariate Analysis"
      ],
      "metadata": {
        "id": "n2Q-ccRK65-X"
      }
    },
    {
      "cell_type": "markdown",
      "source": [
        "\n",
        "Our main motive through this step is to derive the data, define and summarize it, and analyze the pattern present in it. In a dataset, it explores each variable separately. "
      ],
      "metadata": {
        "id": "cUKCUC_zWv7m"
      }
    },
    {
      "cell_type": "code",
      "source": [
        "# Inspecting State column using bar plot\n",
        "fig_dims = (20,6)\n",
        "fig = plt.subplots(figsize=fig_dims)\n",
        "ax = sns.barplot(df['State'].value_counts().keys(),df['State'].value_counts())\n",
        "ax.set_xlabel('State',color = 'g', size = 20)\n",
        "ax.set_ylabel('Number of users',color = 'g', size = 20)\n",
        "plt.title(\"Number of users in each state\",size = 15, color = 'royalblue')\n",
        "plt.show()"
      ],
      "metadata": {
        "id": "9mC1vG1l6-DM"
      },
      "execution_count": null,
      "outputs": []
    },
    {
      "cell_type": "markdown",
      "source": [
        "The top 5 states with maximum number of customers are WV,MN,NY,AL and OH.\n",
        "There are least number of customers in PA,LA and CA states. "
      ],
      "metadata": {
        "id": "aq2ptYJ8BWBW"
      }
    },
    {
      "cell_type": "code",
      "source": [
        "# Inspecting Account length column using histplot\n",
        "sns.set(rc={'figure.figsize':(10,6)})\n",
        "sns.histplot(df['Account length'])\n",
        "plt.xlabel(\"Account length\",size = 15)\n",
        "plt.ylabel(\"Number of users\",size = 15)\n",
        "plt.title(\"Histogram plot of account length\",size = 15, color = 'royalblue')\n",
        "plt.show()"
      ],
      "metadata": {
        "id": "wg51rh4SDrxl"
      },
      "execution_count": null,
      "outputs": []
    },
    {
      "cell_type": "markdown",
      "source": [
        "Most of the customers have account for a duration of 100 to 150 days.\n",
        "\n",
        "There are not a single customer having account duration for more than a year."
      ],
      "metadata": {
        "id": "FSr66yfMERtM"
      }
    },
    {
      "cell_type": "code",
      "source": [
        "# Inspecting international plan column and Voice mail plan column using bar plot\n",
        "\n",
        "fig, axes = plt.subplots(1, 2, figsize=(15, 5))\n",
        "# bar plot of international plan column\n",
        "sns.barplot(ax=axes[0], x = df['International plan'].value_counts().keys(), y = df['International plan'].value_counts())\n",
        "axes[0].set_xlabel('International Plan',color = 'g', size = 15)\n",
        "axes[0].set_ylabel('Number of users',color = 'g', size = 15)\n",
        "\n",
        "# bar plot of Voice mail plan column\n",
        "sns.barplot(ax=axes[1], x = df['Voice mail plan'].value_counts().keys(),y = df['Voice mail plan'].value_counts())\n",
        "axes[1].set_xlabel('Voice mail plan',color = 'g', size = 15)\n",
        "axes[1].set_ylabel('Number of users',color = 'g', size = 15)\n",
        "\n",
        "plt.show()\n"
      ],
      "metadata": {
        "id": "rlrsneRIELCd"
      },
      "execution_count": null,
      "outputs": []
    },
    {
      "cell_type": "markdown",
      "source": [
        "From the above plot it is clear that there are very few customers who have opted for international plan. And also there are not many customers who have opted for voice mail plan.\n"
      ],
      "metadata": {
        "id": "MW4UXhWPHB8Y"
      }
    },
    {
      "cell_type": "code",
      "source": [
        "# Comparison of total time spent on calls with respect to different times of a day using distplot\n",
        "\n",
        "sns.set(rc={'figure.figsize':(20,6)})\n",
        "sns.distplot(df['Total day minutes'],bins = 15,label = 'day')\n",
        "sns.distplot(df['Total eve minutes'],bins = 15, color = 'g',label = 'evening')\n",
        "sns.distplot(df['Total night minutes'], bins = 15, color = 'r',label = 'night')\n",
        "plt.xlabel(\"Total time spent on calls(in minutes)\",size = 15)\n",
        "plt.ylabel(\"Density\",size = 15)\n",
        "plt.title(\"Total time spent on calls with respect to different times of a day\",size = 15, color = 'royalblue')\n",
        "plt.legend(fontsize=15)\n",
        "plt.show()"
      ],
      "metadata": {
        "id": "FCtbtJObVV_v"
      },
      "execution_count": null,
      "outputs": []
    },
    {
      "cell_type": "markdown",
      "source": [
        "Total time spent on calls in evening and night are a bit higher."
      ],
      "metadata": {
        "id": "jyzEKmAuS0O8"
      }
    },
    {
      "cell_type": "code",
      "source": [
        "# Comparison of number of calls with respect to different times of a day using distplot\n",
        "sns.set(rc={'figure.figsize':(20,8)})\n",
        "sns.distplot(df['Total day calls'],bins = 10,label = 'day')\n",
        "sns.distplot(df['Total eve calls'],bins = 10, color = 'g',label = 'evening')\n",
        "sns.distplot(df['Total night calls'], bins = 10, color = 'r',label = 'night')\n",
        "plt.xlabel(\"Total number of calls\",size = 15)\n",
        "plt.ylabel(\"Density\",size = 15)\n",
        "plt.title(\"Number of calls with respect to different times of a day\",size = 15, color = 'royalblue')\n",
        "plt.legend(fontsize=15)\n",
        "plt.show()\n"
      ],
      "metadata": {
        "id": "kV5QxnnlFjGK"
      },
      "execution_count": null,
      "outputs": []
    },
    {
      "cell_type": "code",
      "source": [
        ""
      ],
      "metadata": {
        "id": "gySfofVUkt15"
      },
      "execution_count": null,
      "outputs": []
    },
    {
      "cell_type": "markdown",
      "source": [
        "Total number of calls are nearly same for all 3 times of a day."
      ],
      "metadata": {
        "id": "f0bJdraKSgFH"
      }
    },
    {
      "cell_type": "code",
      "source": [
        "# Comparison of total charges on calls with respect to different times of a day using distplot\n",
        "\n",
        "sns.set(rc={'figure.figsize':(20,8)})\n",
        "sns.distplot(df['Total day charge'],bins = 10,label = 'day')\n",
        "sns.distplot(df['Total eve charge'],bins = 10, color = 'g',label = 'evening')\n",
        "sns.distplot(df['Total night charge'], bins = 10, color = 'r',label = 'night')\n",
        "plt.xlabel(\"Total charges on calls\",size = 15)\n",
        "plt.ylabel(\"Density\",size = 15)\n",
        "plt.title(\"Total charges on calls with respect to different times of a day\",size = 15, color = 'royalblue')\n",
        "plt.legend(fontsize=15)\n",
        "plt.show()"
      ],
      "metadata": {
        "id": "pEbJOATIRGOj"
      },
      "execution_count": null,
      "outputs": []
    },
    {
      "cell_type": "markdown",
      "source": [
        "The charges in night are less as compared to other times of the day."
      ],
      "metadata": {
        "id": "gCSiuT3JZl8H"
      }
    },
    {
      "cell_type": "code",
      "source": [
        "#defining Seaborn color palette to use\n",
        "sns.set(rc={'figure.figsize':(40,8)})\n",
        "colors = sns.color_palette('pastel')[0:9]\n",
        "\n",
        "#creating pie chart for customer service column\n",
        "plt.pie(df['Customer service calls'].value_counts(), labels = df['Customer service calls'].value_counts().keys(),\n",
        "        explode = (0.01,0.01,0.01,0.01,0.1,0.3,0.3,0.3,0.3,0.3), colors = colors, autopct='%.0f%%')\n",
        "plt.title('Percentage of customers who have called customer service')\n",
        "plt.show()"
      ],
      "metadata": {
        "id": "Vs9blBduTHHV"
      },
      "execution_count": null,
      "outputs": []
    },
    {
      "cell_type": "markdown",
      "source": [
        "There are very few customers(around 8%) who have called customer service more than 3 times."
      ],
      "metadata": {
        "id": "ceLGXaArVe4E"
      }
    },
    {
      "cell_type": "code",
      "source": [
        "#defining Seaborn color palette to use\n",
        "colors = sns.color_palette('pastel')[2:4]\n",
        "\n",
        "#creating pie chart for Churn column\n",
        "plt.pie(df['Churn'].value_counts(), labels = df['Churn'].value_counts().keys(),colors = colors, explode = (0.2,0), shadow = True, autopct='%.0f%%')\n",
        "plt.title('Percentage of customers churned')\n",
        "plt.show()"
      ],
      "metadata": {
        "id": "EHftc3K6XQqb"
      },
      "execution_count": null,
      "outputs": []
    },
    {
      "cell_type": "markdown",
      "source": [
        "There are 14% chustomers who have churned."
      ],
      "metadata": {
        "id": "nNbCfJAtmv2J"
      }
    },
    {
      "cell_type": "markdown",
      "source": [
        "# Influence of numerical columns on churn"
      ],
      "metadata": {
        "id": "9D5XpMamOftf"
      }
    },
    {
      "cell_type": "code",
      "source": [
        "# KDE plot\n",
        "\n",
        "sns.set(rc={'figure.figsize':(10,4)})\n",
        "col = list(df.columns)\n",
        "col1 = [i for i in col if i not in ['State','Area code','International plan','Voice mail plan',\n",
        " 'Number vmail messages','Customer service calls','Churn']]\n",
        "for i in col1:\n",
        "  fig, ax = plt.subplots()\n",
        "\n",
        "  sns.kdeplot(df[df[\"Churn\"]==False][i],shade=True, color=\"blue\", label= \"not churned\", ax=ax)\n",
        "  sns.kdeplot(df[df[\"Churn\"]==True][i],shade=True, color=\"green\", label= \"churned\", ax=ax)\n",
        "\n",
        "  ax.set_xlabel(i)\n",
        "  ax.set_ylabel(\"Density\")\n",
        "  plt.legend()\n",
        "\n",
        "  fig.suptitle(f\"{i} vs churn\")"
      ],
      "metadata": {
        "id": "5UZNeAhlnRhI"
      },
      "execution_count": null,
      "outputs": []
    },
    {
      "cell_type": "markdown",
      "source": [
        "From the above plots it is clear that:\n",
        "* When account length is more i.e. 100-130, customers are most likely to Churn.\n",
        "* Churn is high when total day charges and total night charges are high but that is not the case in total evening charges.\n",
        "* The Churn is high when total international call are less."
      ],
      "metadata": {
        "id": "5o7l0vAQGdMo"
      }
    },
    {
      "cell_type": "markdown",
      "source": [
        "# Influence of categorical columns on churn"
      ],
      "metadata": {
        "id": "JlsqCK2pOsdV"
      }
    },
    {
      "cell_type": "code",
      "source": [
        "# Creating dataframe having data of churned customers\n",
        "df_churn = df[df['Churn']==True]"
      ],
      "metadata": {
        "id": "mOXsZlJLRBI8"
      },
      "execution_count": null,
      "outputs": []
    },
    {
      "cell_type": "code",
      "source": [
        "# Plotting top 10 states where churn is more.\n",
        "\n",
        "sns.barplot(df_churn['State'].value_counts()[:10].keys(),df_churn['State'].value_counts()[:10])\n",
        "plt.xlabel(\"State\",size = 15)\n",
        "plt.ylabel(\"Number of users\",size = 15)\n",
        "plt.title(\"Top 10 states with more number of churn\",size = 15, color = 'royalblue')\n",
        "plt.show()"
      ],
      "metadata": {
        "id": "VhLYSKxdREjz"
      },
      "execution_count": null,
      "outputs": []
    },
    {
      "cell_type": "markdown",
      "source": [
        "As churn is high in the states shown in above plot, Telecom company need to focus more on these states."
      ],
      "metadata": {
        "id": "BH20bxXsRghh"
      }
    },
    {
      "cell_type": "code",
      "source": [
        "# Catplot of International plan vs churn\n",
        "\n",
        "fig, ax = plt.subplots()\n",
        "sns.catplot(\"Churn\", hue=\"International plan\", data=df, kind=\"count\", palette={'No':\"yellow\", 'Yes':\"red\"}, ax=ax)\n",
        "plt.close(1) # catplot creates an extra figure we don't need\n",
        "plt.xlabel(\"Churn\",size = 15)\n",
        "plt.ylabel(\"Number of users\",size = 15)\n",
        "plt.title(\"International plan vs churn\",size = 15, color = 'royalblue')\n",
        "plt.show()"
      ],
      "metadata": {
        "id": "0wri_RyKylw9"
      },
      "execution_count": null,
      "outputs": []
    },
    {
      "cell_type": "markdown",
      "source": [
        "* Customers who have churned among those most of them have not opted for international plan.\n",
        "\n",
        "* There are very few customers opted for international plans among the customers who haven't churn.  "
      ],
      "metadata": {
        "id": "HVwmTd6dPlI0"
      }
    },
    {
      "cell_type": "code",
      "source": [
        "# Catplot of Voice mail plan vs churn\n",
        "\n",
        "fig, ax = plt.subplots()\n",
        "sns.catplot(\"Churn\", hue=\"Voice mail plan\", data=df, kind=\"count\", palette={'No':\"green\", 'Yes':\"blue\"}, ax=ax)\n",
        "plt.close(1) # to remove the extra figure\n",
        "plt.xlabel(\"Churn\",size = 15)\n",
        "plt.ylabel(\"Number of users\",size = 15)\n",
        "plt.title(\"Voice mail plan vs churn\",size = 15, color = 'royalblue')\n",
        "plt.show()"
      ],
      "metadata": {
        "id": "dfbcKW1MzUJt"
      },
      "execution_count": null,
      "outputs": []
    },
    {
      "cell_type": "markdown",
      "source": [
        "Customers who have churned among those most of them have not opted for voice mail plan."
      ],
      "metadata": {
        "id": "r5-yCt78HBcb"
      }
    },
    {
      "cell_type": "code",
      "source": [
        "# Catplot of Customer service calls vs churn\n",
        "\n",
        "fig, ax = plt.subplots()\n",
        "sns.catplot(\"Churn\", hue=\"Customer service calls\", data=df, kind=\"count\", ax=ax)\n",
        "plt.close(1) # catplot creates an extra figure we don't need\n",
        "plt.xlabel(\"Churn\",size = 15)\n",
        "plt.ylabel(\"Number of users\",size = 15)\n",
        "plt.title(\"Customer service calls vs churn\",size = 15, color = 'royalblue')\n",
        "plt.show()"
      ],
      "metadata": {
        "id": "ZuNOyzWX0FJS"
      },
      "execution_count": null,
      "outputs": []
    },
    {
      "cell_type": "markdown",
      "source": [
        "Customers who have churned among those most of them have called customer service once."
      ],
      "metadata": {
        "id": "GodRu87HHaLM"
      }
    },
    {
      "cell_type": "markdown",
      "source": [
        "# Correlation matrix"
      ],
      "metadata": {
        "id": "6En-uQMBGFqQ"
      }
    },
    {
      "cell_type": "code",
      "source": [
        "sns.set(rc={'figure.figsize':(20,6)})\n",
        "sns.heatmap(df.corr(), cmap=\"YlGnBu\", annot=True)\n",
        "plt.show()"
      ],
      "metadata": {
        "id": "_OYQCfd4JA5v"
      },
      "execution_count": null,
      "outputs": []
    },
    {
      "cell_type": "markdown",
      "source": [
        "Here total charge and total minutes for day,evening, night and international calls are highly correlated. So for further analysis we can remove either of these variables."
      ],
      "metadata": {
        "id": "bEc1wNJoMSIn"
      }
    },
    {
      "cell_type": "code",
      "source": [
        "df1= df[[i for i in df.columns if i not in ['Total day minutes','Total eve minutes','Total night minutes','Total intl minutes']]]"
      ],
      "metadata": {
        "id": "8npuu8zTM7yl"
      },
      "execution_count": null,
      "outputs": []
    },
    {
      "cell_type": "code",
      "source": [
        "sns.heatmap(df1.corr(), cmap=\"YlGnBu\", annot=True)\n",
        "plt.show()"
      ],
      "metadata": {
        "id": "jkegCIRYO8rZ"
      },
      "execution_count": null,
      "outputs": []
    },
    {
      "cell_type": "markdown",
      "source": [
        "From this matrix it can be concluded that Total day charge and Customer service calls are affecting the churn more as compared to other variables."
      ],
      "metadata": {
        "id": "Lqvvtul5P4u9"
      }
    },
    {
      "cell_type": "markdown",
      "source": [
        "# Outlier detection"
      ],
      "metadata": {
        "id": "XvC_kqHBgy5j"
      }
    },
    {
      "cell_type": "code",
      "source": [
        "sns.set(rc={'figure.figsize':(8,4)})\n",
        "plt.boxplot((df['Account length'], df['Number vmail messages'], df['Customer service calls']), labels = ['Account length','Number vmail messages',\n",
        "                                                                                                         'Customer service calls'])\n",
        "plt.show()"
      ],
      "metadata": {
        "id": "1egjj9vkP4Ks"
      },
      "execution_count": null,
      "outputs": []
    },
    {
      "cell_type": "code",
      "source": [
        "plt.boxplot((df['Total day minutes'], df['Total eve minutes'], df['Total night minutes'], df['Total intl minutes']),\n",
        "            labels = ['Total day minutes','Total eve minutes','Total night minutes','Total intl minutes'])\n",
        "plt.show()"
      ],
      "metadata": {
        "id": "IKGKePr0PerL"
      },
      "execution_count": null,
      "outputs": []
    },
    {
      "cell_type": "code",
      "source": [
        "plt.boxplot((df['Total day calls'], df['Total eve calls'], df['Total night calls'], df['Total intl calls']),\n",
        "            labels = ['Total day calls', 'Total eve calls', 'Total night calls','Total intl calls'])\n",
        "plt.show()"
      ],
      "metadata": {
        "id": "ENRdMFcGa3sC"
      },
      "execution_count": null,
      "outputs": []
    },
    {
      "cell_type": "code",
      "source": [
        "plt.boxplot((df['Total day charge'], df['Total eve charge'], df['Total night charge'], df['Total intl charge']),\n",
        "            labels = ['Total day charge','Total eve charge','Total night charge','Total intl charge'])\n",
        "plt.show()"
      ],
      "metadata": {
        "id": "Ay6hW4V_bi6w"
      },
      "execution_count": null,
      "outputs": []
    },
    {
      "cell_type": "markdown",
      "source": [
        "There are some outliers present in both sides of maximum variables. We can remove or replace these values with suitable statistical metrix for further analysis to get better results.\n",
        "\n",
        "It can be concluded from the plot that the charges in days are higher which is shown previously using distplot."
      ],
      "metadata": {
        "id": "Na98R6lWe-LY"
      }
    },
    {
      "cell_type": "markdown",
      "source": [
        "# Conclusion from EDA"
      ],
      "metadata": {
        "id": "k-WVnRG9emeu"
      }
    },
    {
      "cell_type": "markdown",
      "source": [
        "* 14% of customers are churning.\n",
        "\n",
        "* There are some states like New Jersey, Texas etc. where the churn is more.\n",
        "* The company need to grab more customers from states like California, Louisiana etc. \n",
        " \n",
        "* Most of the customers have account for duration of 3-5 months. There are not a single customer having account length of more than a year.\n",
        "\n",
        "* The charges in night are less as compared to other times of the day.\n",
        "\n",
        "* There are very few customers(around 8%) who have called customer service more than 3 times.\n",
        "\n",
        "* Churn is high when total international calls are less. But there are very few customers who have opted for this plan.\n",
        "\n",
        "* As higher day charge leads to more churn, the company need to reduce day charges in order to reduce customer churn.\n",
        "\n",
        "* Customers who have churned among those most of them have called customer service once.\n",
        "\n",
        "* Total day charge and customer service calls are correlated with churn with correlation coefficient of 0.21.\n",
        "\n",
        "* There are some outliers present in both sides of  maximum variables."
      ],
      "metadata": {
        "id": "Qlsn993XtpMt"
      }
    }
  ]
}